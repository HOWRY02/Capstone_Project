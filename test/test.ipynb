{
 "cells": [
  {
   "cell_type": "code",
   "execution_count": 2,
   "metadata": {},
   "outputs": [
    {
     "name": "stdout",
     "output_type": "stream",
     "text": [
      "Select a ROI and then press SPACE or ENTER button!\n",
      "Cancel the selection process by pressing c button!\n"
     ]
    },
    {
     "name": "stderr",
     "output_type": "stream",
     "text": [
      "[ WARN:0@29.912] global loadsave.cpp:248 findDecoder imread_('src/data_form/don_mien_thi.png'): can't open/read file: check file path/integrity\n"
     ]
    },
    {
     "ename": "error",
     "evalue": "OpenCV(4.8.1) /io/opencv/modules/highgui/src/window.cpp:971: error: (-215:Assertion failed) size.width>0 && size.height>0 in function 'imshow'\n",
     "output_type": "error",
     "traceback": [
      "\u001b[0;31m---------------------------------------------------------------------------\u001b[0m",
      "\u001b[0;31merror\u001b[0m                                     Traceback (most recent call last)",
      "\u001b[1;32m/home/phuc/Documents/Capstone_Project/Capstone_Project/test/test.ipynb Cell 1\u001b[0m line \u001b[0;36m9\n\u001b[1;32m      <a href='vscode-notebook-cell:/home/phuc/Documents/Capstone_Project/Capstone_Project/test/test.ipynb#W0sZmlsZQ%3D%3D?line=5'>6</a>\u001b[0m image \u001b[39m=\u001b[39m cv2\u001b[39m.\u001b[39mimread(\u001b[39m\"\u001b[39m\u001b[39msrc/data_form/don_mien_thi.png\u001b[39m\u001b[39m\"\u001b[39m) \n\u001b[1;32m      <a href='vscode-notebook-cell:/home/phuc/Documents/Capstone_Project/Capstone_Project/test/test.ipynb#W0sZmlsZQ%3D%3D?line=7'>8</a>\u001b[0m \u001b[39m# Select ROI \u001b[39;00m\n\u001b[0;32m----> <a href='vscode-notebook-cell:/home/phuc/Documents/Capstone_Project/Capstone_Project/test/test.ipynb#W0sZmlsZQ%3D%3D?line=8'>9</a>\u001b[0m r \u001b[39m=\u001b[39m cv2\u001b[39m.\u001b[39;49mselectROI(\u001b[39m\"\u001b[39;49m\u001b[39mselect the area\u001b[39;49m\u001b[39m\"\u001b[39;49m, image) \n\u001b[1;32m     <a href='vscode-notebook-cell:/home/phuc/Documents/Capstone_Project/Capstone_Project/test/test.ipynb#W0sZmlsZQ%3D%3D?line=10'>11</a>\u001b[0m \u001b[39m# Crop image \u001b[39;00m\n\u001b[1;32m     <a href='vscode-notebook-cell:/home/phuc/Documents/Capstone_Project/Capstone_Project/test/test.ipynb#W0sZmlsZQ%3D%3D?line=11'>12</a>\u001b[0m cropped_image \u001b[39m=\u001b[39m image[\u001b[39mint\u001b[39m(r[\u001b[39m1\u001b[39m]):\u001b[39mint\u001b[39m(r[\u001b[39m1\u001b[39m]\u001b[39m+\u001b[39mr[\u001b[39m3\u001b[39m]),  \n\u001b[1;32m     <a href='vscode-notebook-cell:/home/phuc/Documents/Capstone_Project/Capstone_Project/test/test.ipynb#W0sZmlsZQ%3D%3D?line=12'>13</a>\u001b[0m                       \u001b[39mint\u001b[39m(r[\u001b[39m0\u001b[39m]):\u001b[39mint\u001b[39m(r[\u001b[39m0\u001b[39m]\u001b[39m+\u001b[39mr[\u001b[39m2\u001b[39m])] \n",
      "\u001b[0;31merror\u001b[0m: OpenCV(4.8.1) /io/opencv/modules/highgui/src/window.cpp:971: error: (-215:Assertion failed) size.width>0 && size.height>0 in function 'imshow'\n"
     ]
    }
   ],
   "source": [
    "import cv2 \n",
    "import numpy as np \n",
    "  \n",
    "  \n",
    "# Read image \n",
    "image = cv2.imread(\"src/data_form/don_mien_thi.png\") \n",
    "  \n",
    "# Select ROI \n",
    "r = cv2.selectROI(\"select the area\", image) \n",
    "  \n",
    "# Crop image \n",
    "cropped_image = image[int(r[1]):int(r[1]+r[3]),  \n",
    "                      int(r[0]):int(r[0]+r[2])] \n",
    "  \n",
    "# Display cropped image \n",
    "cv2.imshow(\"Cropped image\", cropped_image) \n",
    "cv2.waitKey(0)"
   ]
  }
 ],
 "metadata": {
  "kernelspec": {
   "display_name": "PRO",
   "language": "python",
   "name": "python3"
  },
  "language_info": {
   "codemirror_mode": {
    "name": "ipython",
    "version": 3
   },
   "file_extension": ".py",
   "mimetype": "text/x-python",
   "name": "python",
   "nbconvert_exporter": "python",
   "pygments_lexer": "ipython3",
   "version": "3.8.0"
  }
 },
 "nbformat": 4,
 "nbformat_minor": 2
}
